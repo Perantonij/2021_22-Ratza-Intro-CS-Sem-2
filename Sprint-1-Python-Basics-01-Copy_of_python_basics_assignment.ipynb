{
  "nbformat": 4,
  "nbformat_minor": 0,
  "metadata": {
    "colab": {
      "name": "Copy of JUSTIN PERANTONI - Copy of python_basics_assignment.ipynb",
      "provenance": [],
      "collapsed_sections": [],
      "include_colab_link": true
    },
    "kernelspec": {
      "name": "python3",
      "display_name": "Python 3"
    },
    "language_info": {
      "name": "python"
    }
  },
  "cells": [
    {
      "cell_type": "markdown",
      "metadata": {
        "id": "view-in-github",
        "colab_type": "text"
      },
      "source": [
        "<a href=\"https://colab.research.google.com/github/Perantonij/2021_22-Ratza-Intro-CS-Sem-2/blob/main/Sprint-1-Python-Basics-01-Copy_of_python_basics_assignment.ipynb\" target=\"_parent\"><img src=\"https://colab.research.google.com/assets/colab-badge.svg\" alt=\"Open In Colab\"/></a>"
      ]
    },
    {
      "cell_type": "markdown",
      "source": [
        "### Key Terms\n",
        "\n",
        "Complete the following questions to solidify you're understanding of the key concepts. Feel free to use the lecture notebook or any other resources to help you, but do not copy and paste answers from the internet instead use your own words to present your understanding.\n",
        "\n",
        "----"
      ],
      "metadata": {
        "id": "2cOCCaF6Q4ys"
      }
    },
    {
      "cell_type": "markdown",
      "source": [
        "What is a general use programming language?"
      ],
      "metadata": {
        "id": "e_bDYmbjRHNc"
      }
    },
    {
      "cell_type": "markdown",
      "source": [
        "A progamming language in wich "
      ],
      "metadata": {
        "id": "ROigjjFsRHKB"
      }
    },
    {
      "cell_type": "markdown",
      "source": [
        "Who invented Python and when?"
      ],
      "metadata": {
        "id": "X4j6a8y4RHGG"
      }
    },
    {
      "cell_type": "markdown",
      "source": [
        "Guido van Rossum in December of 1989"
      ],
      "metadata": {
        "id": "B5WWUhgXRHDt"
      }
    },
    {
      "cell_type": "markdown",
      "source": [
        "What is the difference between front-end and back-end?"
      ],
      "metadata": {
        "id": "RHkgvf39RHBm"
      }
    },
    {
      "cell_type": "markdown",
      "source": [
        "front end is code that the end user interacts with while backend is what happenes behind the scenes"
      ],
      "metadata": {
        "id": "cl7LFD3pRG_H"
      }
    },
    {
      "cell_type": "markdown",
      "source": [
        "What is a GUI?"
      ],
      "metadata": {
        "id": "oTkkpwhVRG80"
      }
    },
    {
      "cell_type": "markdown",
      "source": [
        "Graphical user interface"
      ],
      "metadata": {
        "id": "aoVSrA67RG6D"
      }
    },
    {
      "cell_type": "markdown",
      "source": [
        "What is an API?"
      ],
      "metadata": {
        "id": "nHjQwFW1RG4C"
      }
    },
    {
      "cell_type": "markdown",
      "source": [
        "An API is a type of software in wich you code in to comunicate with the hardwarwe of the computer"
      ],
      "metadata": {
        "id": "0A6LKX_5RG1x"
      }
    },
    {
      "cell_type": "markdown",
      "source": [
        "What is Open Source Software?"
      ],
      "metadata": {
        "id": "RWzJmW61RGzR"
      }
    },
    {
      "cell_type": "markdown",
      "source": [
        "Software that anyone can edit"
      ],
      "metadata": {
        "id": "J8Lcpl46RGwu"
      }
    },
    {
      "cell_type": "markdown",
      "source": [
        "What is a development environment?"
      ],
      "metadata": {
        "id": "gob_Rgp8RGqT"
      }
    },
    {
      "cell_type": "markdown",
      "source": [
        "Eclipse, colab, and idle are all examples"
      ],
      "metadata": {
        "id": "BCPeV2UCRGZm"
      }
    },
    {
      "cell_type": "markdown",
      "source": [
        "What is meant by local and remote in the context of computers?"
      ],
      "metadata": {
        "id": "lKduQMuWSYoC"
      }
    },
    {
      "cell_type": "markdown",
      "source": [
        ""
      ],
      "metadata": {
        "id": "GcJMiJjFSfO2"
      }
    },
    {
      "cell_type": "markdown",
      "source": [
        "What is an operating system?"
      ],
      "metadata": {
        "id": "cb6Coc48Sgev"
      }
    },
    {
      "cell_type": "markdown",
      "source": [
        "A operating system is a piece of software that comunicates with the kernel to let you use different apps and progams"
      ],
      "metadata": {
        "id": "586kJGbvSlw5"
      }
    },
    {
      "cell_type": "markdown",
      "source": [
        "What is a kernel?"
      ],
      "metadata": {
        "id": "7tRiStzGSltk"
      }
    },
    {
      "cell_type": "markdown",
      "source": [
        ""
      ],
      "metadata": {
        "id": "jp5g1ZgWSlq6"
      }
    },
    {
      "cell_type": "markdown",
      "source": [
        "What is a shell?"
      ],
      "metadata": {
        "id": "WdOAakQJSloH"
      }
    },
    {
      "cell_type": "markdown",
      "source": [
        ""
      ],
      "metadata": {
        "id": "Gpaic8JSSlle"
      }
    },
    {
      "cell_type": "markdown",
      "source": [
        "What shell do we have access to in Colab notebooks?"
      ],
      "metadata": {
        "id": "hn5QICK0Slio"
      }
    },
    {
      "cell_type": "markdown",
      "source": [
        ""
      ],
      "metadata": {
        "id": "vYRb0JJXSlfx"
      }
    },
    {
      "cell_type": "markdown",
      "source": [
        "What is an interpreter?"
      ],
      "metadata": {
        "id": "dmgmzh-ISldB"
      }
    },
    {
      "cell_type": "markdown",
      "source": [
        "an interpreter"
      ],
      "metadata": {
        "id": "Y79bP4GLS3bI"
      }
    },
    {
      "cell_type": "markdown",
      "source": [
        "What is a value in programming?"
      ],
      "metadata": {
        "id": "A2q30j02S3G3"
      }
    },
    {
      "cell_type": "markdown",
      "source": [
        "Anythin you can maniplate using code ex. int, string, boolean"
      ],
      "metadata": {
        "id": "ilES-rT6S9vm"
      }
    },
    {
      "cell_type": "markdown",
      "source": [
        "What is an expression in programming?"
      ],
      "metadata": {
        "id": "KI34llQnS--5"
      }
    },
    {
      "cell_type": "markdown",
      "source": [
        "A runable line of code"
      ],
      "metadata": {
        "id": "VHXYGhIcTBw9"
      }
    },
    {
      "cell_type": "markdown",
      "source": [
        "What is syntax?"
      ],
      "metadata": {
        "id": "pmKFicLMTCcD"
      }
    },
    {
      "cell_type": "markdown",
      "source": [
        "syntax is a rule in progaming like ints cant = strings"
      ],
      "metadata": {
        "id": "sqCxeE2TTKvy"
      }
    },
    {
      "cell_type": "markdown",
      "source": [
        "What do we call the process of discovering and resolving errors?"
      ],
      "metadata": {
        "id": "B8m5jqm6TLHE"
      }
    },
    {
      "cell_type": "markdown",
      "source": [
        "debugging"
      ],
      "metadata": {
        "id": "0TozR78oTRK4"
      }
    },
    {
      "cell_type": "markdown",
      "source": [
        "### Code"
      ],
      "metadata": {
        "id": "OJR_RDQpTRyR"
      }
    },
    {
      "cell_type": "markdown",
      "source": [
        "Let's revisit some of the things we practiced in the lecture. In the code cell below print your name to the console without first declaring it as a variable."
      ],
      "metadata": {
        "id": "zPvODBfiTWCP"
      }
    },
    {
      "cell_type": "code",
      "source": [
        "name = \"Justin\"\n",
        "print(name)"
      ],
      "metadata": {
        "id": "mZb-v_UwTO7B",
        "colab": {
          "base_uri": "https://localhost:8080/"
        },
        "outputId": "4024c56f-d9d9-4908-82a3-280e30a233cd"
      },
      "execution_count": null,
      "outputs": [
        {
          "output_type": "stream",
          "name": "stdout",
          "text": [
            "Justin\n"
          ]
        }
      ]
    },
    {
      "cell_type": "markdown",
      "source": [
        "Now declare your first name and last name as separate variables and combine them in the print statement."
      ],
      "metadata": {
        "id": "sZPksnwpTnTD"
      }
    },
    {
      "cell_type": "code",
      "source": [
        "name = \"Justin\"\n",
        "last_name = \" Perantoni\"\n",
        "print(name + last_name)"
      ],
      "metadata": {
        "id": "oqmZRhYLTztw",
        "colab": {
          "base_uri": "https://localhost:8080/"
        },
        "outputId": "7a88ea85-3797-4dc5-f362-f4720b058542"
      },
      "execution_count": null,
      "outputs": [
        {
          "output_type": "stream",
          "name": "stdout",
          "text": [
            "Justin Perantoni\n"
          ]
        }
      ]
    },
    {
      "cell_type": "markdown",
      "source": [
        "In the cell below run the \"Zen of Python\" easter egg."
      ],
      "metadata": {
        "id": "cNe3K4WZT2_0"
      }
    },
    {
      "cell_type": "code",
      "source": [
        "import this"
      ],
      "metadata": {
        "id": "FSkN7Q52UKyU",
        "colab": {
          "base_uri": "https://localhost:8080/"
        },
        "outputId": "eef42adf-d852-427b-b1f7-742dfb871107"
      },
      "execution_count": null,
      "outputs": [
        {
          "output_type": "stream",
          "name": "stdout",
          "text": [
            "The Zen of Python, by Tim Peters\n",
            "\n",
            "Beautiful is better than ugly.\n",
            "Explicit is better than implicit.\n",
            "Simple is better than complex.\n",
            "Complex is better than complicated.\n",
            "Flat is better than nested.\n",
            "Sparse is better than dense.\n",
            "Readability counts.\n",
            "Special cases aren't special enough to break the rules.\n",
            "Although practicality beats purity.\n",
            "Errors should never pass silently.\n",
            "Unless explicitly silenced.\n",
            "In the face of ambiguity, refuse the temptation to guess.\n",
            "There should be one-- and preferably only one --obvious way to do it.\n",
            "Although that way may not be obvious at first unless you're Dutch.\n",
            "Now is better than never.\n",
            "Although never is often better than *right* now.\n",
            "If the implementation is hard to explain, it's a bad idea.\n",
            "If the implementation is easy to explain, it may be a good idea.\n",
            "Namespaces are one honking great idea -- let's do more of those!\n"
          ]
        }
      ]
    },
    {
      "cell_type": "markdown",
      "source": [
        "### Explore"
      ],
      "metadata": {
        "id": "2ADI5kQAUMLI"
      }
    },
    {
      "cell_type": "markdown",
      "source": [
        "This portion of the assignment contains things we didn't explicitly cover in the lecture, instead encouraging you to explore and experiment on your own to discover some of the different operators and expressions in Python. For each expression first describe what you expect to happen before running the code cell.\n",
        "\n",
        "Documentation for Python's numeric operators can be found [here](https://docs.python.org/3.10/library/stdtypes.html#numeric-types-int-float-complex)"
      ],
      "metadata": {
        "id": "vchHFmicUOid"
      }
    },
    {
      "cell_type": "markdown",
      "source": [
        "#### `5 + 2 * 2`\n",
        "\n",
        "What do you expect to happen? I expect the console to print out 9"
      ],
      "metadata": {
        "id": "_lTiBbJMU28S"
      }
    },
    {
      "cell_type": "code",
      "source": [
        "print(5+2*2)"
      ],
      "metadata": {
        "id": "ALTC2aYRUNRe",
        "colab": {
          "base_uri": "https://localhost:8080/"
        },
        "outputId": "f63c11c5-841c-400a-8309-e85907186bb3"
      },
      "execution_count": null,
      "outputs": [
        {
          "output_type": "stream",
          "name": "stdout",
          "text": [
            "9\n"
          ]
        }
      ]
    },
    {
      "cell_type": "markdown",
      "source": [
        "#### `2 / 3`\n",
        "\n",
        "What do you expect to happen? I expect the console to print out 0.6 repeating"
      ],
      "metadata": {
        "id": "zSMDH8osVEEN"
      }
    },
    {
      "cell_type": "markdown",
      "source": [
        ""
      ],
      "metadata": {
        "id": "MJ_mZbouVI9_"
      }
    },
    {
      "cell_type": "code",
      "source": [
        "print(2/3)"
      ],
      "metadata": {
        "id": "FYMUlyCEVHD1",
        "colab": {
          "base_uri": "https://localhost:8080/"
        },
        "outputId": "b38377f8-1675-4309-cfaf-63022df15b57"
      },
      "execution_count": null,
      "outputs": [
        {
          "output_type": "stream",
          "name": "stdout",
          "text": [
            "0.6666666666666666\n"
          ]
        }
      ]
    },
    {
      "cell_type": "markdown",
      "source": [
        "#### `2.5 * 10`\n",
        "\n",
        "What do you expect to happen? I expect the console to print out 15"
      ],
      "metadata": {
        "id": "c8LQrbNQVIID"
      }
    },
    {
      "cell_type": "markdown",
      "source": [
        ""
      ],
      "metadata": {
        "id": "J1Ts7WLEVPU-"
      }
    },
    {
      "cell_type": "code",
      "source": [
        "print(2.5*10)"
      ],
      "metadata": {
        "id": "IuE7GclzVOpO",
        "colab": {
          "base_uri": "https://localhost:8080/"
        },
        "outputId": "0733482f-9899-4472-94d0-decfca2b65fc"
      },
      "execution_count": null,
      "outputs": [
        {
          "output_type": "stream",
          "name": "stdout",
          "text": [
            "25.0\n"
          ]
        }
      ]
    },
    {
      "cell_type": "markdown",
      "source": [
        "#### `a`\n",
        "\n",
        "What do you expect to happen? an error to occur"
      ],
      "metadata": {
        "id": "YfKfY31nVSfy"
      }
    },
    {
      "cell_type": "code",
      "source": [
        "print(a)"
      ],
      "metadata": {
        "id": "pukzPvzXVUgM",
        "colab": {
          "base_uri": "https://localhost:8080/",
          "height": 165
        },
        "outputId": "fb51b61c-67dc-4d45-cfa9-184371db0465"
      },
      "execution_count": null,
      "outputs": [
        {
          "output_type": "error",
          "ename": "NameError",
          "evalue": "ignored",
          "traceback": [
            "\u001b[0;31m---------------------------------------------------------------------------\u001b[0m",
            "\u001b[0;31mNameError\u001b[0m                                 Traceback (most recent call last)",
            "\u001b[0;32m<ipython-input-5-bca0e2660b9f>\u001b[0m in \u001b[0;36m<module>\u001b[0;34m()\u001b[0m\n\u001b[0;32m----> 1\u001b[0;31m \u001b[0mprint\u001b[0m\u001b[0;34m(\u001b[0m\u001b[0ma\u001b[0m\u001b[0;34m)\u001b[0m\u001b[0;34m\u001b[0m\u001b[0;34m\u001b[0m\u001b[0m\n\u001b[0m",
            "\u001b[0;31mNameError\u001b[0m: name 'a' is not defined"
          ]
        }
      ]
    },
    {
      "cell_type": "markdown",
      "source": [
        "#### `'a'`\n",
        "\n",
        "\n",
        "What do you expect to happen? I expect there to be another error"
      ],
      "metadata": {
        "id": "x_G2qoXLVhVj"
      }
    },
    {
      "cell_type": "markdown",
      "source": [
        ""
      ],
      "metadata": {
        "id": "IjTY1xn_VoB4"
      }
    },
    {
      "cell_type": "code",
      "source": [
        "print('a')"
      ],
      "metadata": {
        "id": "e0PEkzRHVjVo",
        "colab": {
          "base_uri": "https://localhost:8080/"
        },
        "outputId": "53885484-67b9-4c58-c7b9-0684ba0d91e7"
      },
      "execution_count": null,
      "outputs": [
        {
          "output_type": "stream",
          "name": "stdout",
          "text": [
            "a\n"
          ]
        }
      ]
    },
    {
      "cell_type": "markdown",
      "source": [
        "#### `521 // 5`\n",
        "\n",
        "What do you expect to happen? I expect the console to print out 104"
      ],
      "metadata": {
        "id": "2kCnvuRvVprG"
      }
    },
    {
      "cell_type": "markdown",
      "source": [
        ""
      ],
      "metadata": {
        "id": "QWOocovcV3i6"
      }
    },
    {
      "cell_type": "code",
      "source": [
        "print(521//5)"
      ],
      "metadata": {
        "id": "n9QgKjHxV7oX",
        "colab": {
          "base_uri": "https://localhost:8080/"
        },
        "outputId": "faf4e596-c829-4a7e-b86a-76928e255708"
      },
      "execution_count": null,
      "outputs": [
        {
          "output_type": "stream",
          "name": "stdout",
          "text": [
            "104\n"
          ]
        }
      ]
    },
    {
      "cell_type": "code",
      "source": [
        "print(\"hello\")\n",
        "print(\"world\")"
      ],
      "metadata": {
        "colab": {
          "base_uri": "https://localhost:8080/"
        },
        "outputId": "f69132dc-6387-43bc-b696-75d3fab9f13a",
        "id": "aA9gcO5JSqwW"
      },
      "execution_count": 1,
      "outputs": [
        {
          "output_type": "stream",
          "name": "stdout",
          "text": [
            "hello\n",
            "world\n"
          ]
        }
      ]
    },
    {
      "cell_type": "markdown",
      "source": [
        ""
      ],
      "metadata": {
        "id": "_rW2XYf9UKFL"
      }
    }
  ]
}